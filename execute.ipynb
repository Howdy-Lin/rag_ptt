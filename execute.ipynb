{
 "cells": [
  {
   "cell_type": "code",
   "execution_count": null,
   "id": "e83f5c24-29ba-48d7-9ff7-5948794b686a",
   "metadata": {},
   "outputs": [],
   "source": [
    "%run run_all_batch_for_vectorize.py"
   ]
  },
  {
   "cell_type": "code",
   "execution_count": null,
   "id": "9a66213e-0196-4908-896a-db68ace0d97c",
   "metadata": {},
   "outputs": [],
   "source": [
    "%run rag_system.py"
   ]
  },
  {
   "cell_type": "code",
   "execution_count": null,
   "id": "d38ddf40-7e4b-4f60-b587-6c477734d068",
   "metadata": {},
   "outputs": [],
   "source": [
    "法官是誰?"
   ]
  }
 ],
 "metadata": {
  "kernelspec": {
   "display_name": "Python(cnn_env)",
   "language": "python",
   "name": "cnn_env"
  },
  "language_info": {
   "codemirror_mode": {
    "name": "ipython",
    "version": 3
   },
   "file_extension": ".py",
   "mimetype": "text/x-python",
   "name": "python",
   "nbconvert_exporter": "python",
   "pygments_lexer": "ipython3",
   "version": "3.9.23"
  }
 },
 "nbformat": 4,
 "nbformat_minor": 5
}
